{
 "cells": [
  {
   "cell_type": "markdown",
   "metadata": {},
   "source": [
    "From a sample of the RMS Titanic data, we can see the various features present for each passenger on the ship:\n",
    "- **Survived**: Outcome of survival (0 = No; 1 = Yes)\n",
    "- **Pclass**: Socio-economic class (1 = Upper class; 2 = Middle class; 3 = Lower class)\n",
    "- **Name**: Name of passenger\n",
    "- **Sex**: Sex of the passenger\n",
    "- **Age**: Age of the passenger (Some entries contain `NaN`)\n",
    "- **SibSp**: Number of siblings and spouses of the passenger aboard\n",
    "- **Parch**: Number of parents and children of the passenger aboard\n",
    "- **Ticket**: Ticket number of the passenger\n",
    "- **Fare**: Fare paid by the passenger\n",
    "- **Cabin** Cabin number of the passenger (Some entries contain `NaN`)\n",
    "- **Embarked**: Port of embarkation of the passenger (C = Cherbourg; Q = Queenstown; S = Southampton)\n"
   ]
  },
  {
   "cell_type": "code",
   "execution_count": 28,
   "metadata": {
    "collapsed": false
   },
   "outputs": [],
   "source": [
    "import numpy as np\n",
    "import pandas as pd\n",
    "\n",
    "from IPython.display import display\n",
    "from sklearn import tree\n",
    "from sklearn import model_selection\n",
    "from sklearn.metrics import accuracy_score\n",
    "from sklearn.ensemble import GradientBoostingClassifier\n",
    "from sklearn.linear_model import LogisticRegression\n",
    "from sklearn.model_selection import GridSearchCV\n",
    "\n",
    "%matplotlib inline\n",
    "import matplotlib.pyplot as plt\n",
    "\n",
    "in_file = 'titanic_data.csv'\n",
    "full_data = pd.read_csv(in_file)\n",
    "\n",
    "in_file_test = 'test.csv'\n",
    "full_data_test = pd.read_csv(in_file_test)\n",
    "\n",
    "def normalizar(train, test):\n",
    "    train = train.drop(['Name', 'Cabin', 'Ticket', 'Fare', 'Survived'], axis = 1)\n",
    "    test = test.drop(['Name', 'Cabin', 'Fare', 'Ticket'], axis = 1)\n",
    "    \n",
    "    result = train.append(test)\n",
    "    result['Age'].fillna(int(result['Age'].mean()), inplace=True)\n",
    "    #result['Embarked'].fillna(result['Embarked'].mode()[0], inplace=True)\n",
    "    #result['Cabin'].fillna(result['Cabin'].mode()[0], inplace=True)\n",
    "    \n",
    "    result['Sex'] = result['Sex'].astype('category').cat.codes\n",
    "    result['Embarked'] = result['Embarked'].astype('category').cat.codes\n",
    "    #result['Cabin'] = result['Cabin'].astype('category').cat.codes\n",
    "    \n",
    "    train = result[:len(train)]\n",
    "    test = result[len(train):]\n",
    "    return train, test\n",
    "\n",
    "'''\n",
    "Normalização das idades que contem NaN.\n",
    "Calculo a média das idade dos que sobreviveram e não, separadamente. \n",
    "Para os passageiros que não contém a idade, inserir a média das idades\n",
    "de acordo se o passageiro tenha sobrevivido ou não.\n",
    "Isso apenas para o caso de treinamento.\n",
    "def normalizar2(train, test):\n",
    "    without_nan_age = train[train['Age'] > 0]        \n",
    "    average_age_survided = without_nan_age[without_nan_age['Survived'] == 1]['Age'].mean()\n",
    "    average_age_not_survided = without_nan_age[without_nan_age['Survived'] == 0]['Age'].mean()    \n",
    "\n",
    "    ite = 0\n",
    "    for i, passageiro in train.iterrows():        \n",
    "        if passageiro[4] > 0: ite = ite + 1\n",
    "        elif passageiro[1] == 1: passageiro[4] = int(average_age_survided)\n",
    "        else: passageiro[4] = int(average_age_not_survided)\n",
    "            \n",
    "    train = train.drop(['Cabin', 'Name', 'Ticket', 'Fare', 'Survived'], axis = 1)\n",
    "    test = test.drop(['Cabin', 'Name', 'Ticket', 'Fare'], axis = 1)\n",
    "    \n",
    "    result = train.append(test)    \n",
    "    result['Age'].fillna(int(result['Age'].mean()), inplace=True)\n",
    "    result['Sex'] = result['Sex'].astype('category').cat.codes\n",
    "    result['Embarked'] = result['Embarked'].astype('category').cat.codes\n",
    "    \n",
    "    train = result[:len(train)]\n",
    "    test = result[len(train):]  \n",
    "    return train, test\n",
    "'''\n",
    "\n",
    "def executar(model, train):\n",
    "    X = train.drop(['PassengerId'], axis = 1)\n",
    "    y = full_data['Survived']\n",
    "    tamTrain = int(len(X)*0.8)\n",
    "    model.fit(X[:tamTrain], y[:tamTrain])\n",
    "    pred = model.predict(X[tamTrain:])\n",
    "    return accuracy_score(pred, y[tamTrain:])"
   ]
  },
  {
   "cell_type": "code",
   "execution_count": 29,
   "metadata": {
    "collapsed": false
   },
   "outputs": [],
   "source": [
    "train, test = normalizar(full_data, full_data_test)"
   ]
  },
  {
   "cell_type": "code",
   "execution_count": 30,
   "metadata": {
    "collapsed": false
   },
   "outputs": [
    {
     "data": {
      "text/plain": [
       "0.83240223463687146"
      ]
     },
     "execution_count": 30,
     "metadata": {},
     "output_type": "execute_result"
    }
   ],
   "source": [
    "modelDT = tree.DecisionTreeClassifier(random_state = 1)\n",
    "executar(modelDT, train)"
   ]
  },
  {
   "cell_type": "code",
   "execution_count": 31,
   "metadata": {
    "collapsed": false
   },
   "outputs": [
    {
     "data": {
      "text/plain": [
       "0.86033519553072624"
      ]
     },
     "execution_count": 31,
     "metadata": {},
     "output_type": "execute_result"
    }
   ],
   "source": [
    "modelGB = GradientBoostingClassifier(random_state=1)\n",
    "executar(modelGB, train)\n",
    "#train.columns"
   ]
  },
  {
   "cell_type": "code",
   "execution_count": 32,
   "metadata": {
    "collapsed": false
   },
   "outputs": [
    {
     "data": {
      "text/plain": [
       "0.82681564245810057"
      ]
     },
     "execution_count": 32,
     "metadata": {},
     "output_type": "execute_result"
    }
   ],
   "source": [
    "modelLR = LogisticRegression(random_state=1)\n",
    "executar(modelLR, train)"
   ]
  },
  {
   "cell_type": "code",
   "execution_count": 33,
   "metadata": {
    "collapsed": false
   },
   "outputs": [
    {
     "data": {
      "text/plain": [
       "array([ 0.0842561 ,  0.17340511,  0.52010919,  0.12272433,  0.06090968,\n",
       "        0.03859559])"
      ]
     },
     "execution_count": 33,
     "metadata": {},
     "output_type": "execute_result"
    }
   ],
   "source": [
    "modelGB.feature_importances_"
   ]
  },
  {
   "cell_type": "code",
   "execution_count": 34,
   "metadata": {
    "collapsed": false
   },
   "outputs": [
    {
     "name": "stdout",
     "output_type": "stream",
     "text": [
      "DecisionTreeClassifier(class_weight=None, criterion='gini', max_depth=None,\n",
      "            max_features=5, max_leaf_nodes=None, min_impurity_split=1e-07,\n",
      "            min_samples_leaf=1, min_samples_split=2,\n",
      "            min_weight_fraction_leaf=0.0, presort=False, random_state=1,\n",
      "            splitter='best') 0.805836139169\n"
     ]
    }
   ],
   "source": [
    "def executarGrid(model, train, param):\n",
    "    X = train.drop(['PassengerId'], axis = 1)\n",
    "    y = full_data['Survived']\n",
    "    tamTrain = int(len(X)*0.8)\n",
    "    grid = GridSearchCV(model, param, cv=5)\n",
    "    grid.fit(X, y)\n",
    "    return grid\n",
    "\n",
    "paramTree = {'criterion': ('entropy', 'gini'),\n",
    "        'splitter': ('best', 'random'),\n",
    "        'max_features': (None, 'auto', 'sqrt', 'log2', 1, 2, 3, 4, 5, 6),\n",
    "        'random_state': [1]\n",
    "       }\n",
    "modelDT2 = tree.DecisionTreeClassifier()\n",
    "gridTree = executarGrid(modelDT2, train, paramTree)\n",
    "print gridTree.best_estimator_, gridTree.best_score_"
   ]
  },
  {
   "cell_type": "code",
   "execution_count": 35,
   "metadata": {
    "collapsed": false
   },
   "outputs": [
    {
     "name": "stdout",
     "output_type": "stream",
     "text": [
      "GradientBoostingClassifier(criterion='friedman_mse', init=None,\n",
      "              learning_rate=0.01, loss='deviance', max_depth=3,\n",
      "              max_features=None, max_leaf_nodes=None,\n",
      "              min_impurity_split=1e-07, min_samples_leaf=1,\n",
      "              min_samples_split=2, min_weight_fraction_leaf=0.0,\n",
      "              n_estimators=100, presort='auto', random_state=1,\n",
      "              subsample=1.0, verbose=0, warm_start=False) 0.830527497194\n"
     ]
    }
   ],
   "source": [
    "paramGB = {'n_estimators': (100, 200, 400, 800, 1000),\n",
    "        'max_depth': (3, 5, 7),\n",
    "        'learning_rate': (0.1, 0.05, 0.01),\n",
    "        'random_state': [1]\n",
    "       }\n",
    "\n",
    "modelGB2 = GradientBoostingClassifier()\n",
    "gridGB = executarGrid(modelGB2, train, paramGB)\n",
    "print gridGB.best_estimator_, gridGB.best_score_"
   ]
  },
  {
   "cell_type": "code",
   "execution_count": 36,
   "metadata": {
    "collapsed": false
   },
   "outputs": [
    {
     "name": "stdout",
     "output_type": "stream",
     "text": [
      "entropy best None 0.826815642458\n",
      "entropy best auto 0.837988826816\n",
      "entropy best sqrt 0.837988826816\n",
      "entropy best log2 0.837988826816\n",
      "entropy best 1 0.826815642458\n",
      "entropy best 2 0.837988826816\n",
      "entropy best 3 0.815642458101\n",
      "entropy best 4 0.787709497207\n",
      "entropy best 5 0.843575418994\n",
      "entropy best 6 0.826815642458\n",
      "entropy random None 0.798882681564\n",
      "entropy random auto 0.776536312849\n",
      "entropy random sqrt 0.776536312849\n",
      "entropy random log2 0.776536312849\n",
      "entropy random 1 0.782122905028\n",
      "entropy random 2 0.776536312849\n",
      "entropy random 3 0.815642458101\n",
      "entropy random 4 0.793296089385\n",
      "entropy random 5 0.793296089385\n",
      "entropy random 6 0.798882681564\n",
      "gini best None 0.832402234637\n",
      "gini best auto 0.826815642458\n",
      "gini best sqrt 0.826815642458\n",
      "gini best log2 0.826815642458\n",
      "gini best 1 0.804469273743\n",
      "gini best 2 0.826815642458\n",
      "gini best 3 0.826815642458\n",
      "gini best 4 0.815642458101\n",
      "gini best 5 0.849162011173\n",
      "gini best 6 0.832402234637\n",
      "gini random None 0.843575418994\n",
      "gini random auto 0.787709497207\n",
      "gini random sqrt 0.787709497207\n",
      "gini random log2 0.787709497207\n",
      "gini random 1 0.782122905028\n",
      "gini random 2 0.787709497207\n",
      "gini random 3 0.815642458101\n",
      "gini random 4 0.793296089385\n",
      "gini random 5 0.793296089385\n",
      "gini random 6 0.843575418994\n",
      "Melhor:  ['gini', 'best', 5, 0.84916201117318435]\n"
     ]
    },
    {
     "data": {
      "image/png": "[encoded data removed]",
      "text/plain": [
       "<matplotlib.figure.Figure at 0xc5c8550>"
      ]
     },
     "metadata": {},
     "output_type": "display_data"
    }
   ],
   "source": [
    "grafico_y = []\n",
    "grafico_x = []\n",
    "grafico_label_x = []\n",
    "maior = [\"\", \"\", \"\", -1.0]\n",
    "ite = 0\n",
    "X = train.drop(['PassengerId'], axis = 1)\n",
    "y = full_data['Survived']\n",
    "tamTrain = int(len(X)*0.8)\n",
    "for p1 in ['entropy', 'gini']:\n",
    "    for p2 in ['best', 'random']:\n",
    "        for p3 in [None, 'auto', 'sqrt', 'log2', 1, 2, 3, 4, 5, 6]:\n",
    "            model_test = tree.DecisionTreeClassifier(criterion=p1, splitter=p2, max_features=p3, random_state = 1)\n",
    "            model_test.fit(X[:tamTrain], y[:tamTrain])\n",
    "            pred_test = model_test.predict(X[tamTrain:])\n",
    "            accu = accuracy_score(pred_test, y[tamTrain:])\n",
    "            grafico_y.append(accu)\n",
    "            grafico_x.append(ite)\n",
    "            grafico_label_x.append((p1, p2, p3))            \n",
    "            if(maior[3] < accu): maior = [p1, p2, p3, accu]\n",
    "            ite = ite + 1\n",
    "            print p1, p2, p3, accu\n",
    "\n",
    "print \"Melhor: \", maior\n",
    "#print grafico_label_x            \n",
    "plt.plot(grafico_x, grafico_y, marker='o')\n",
    "plt.grid()"
   ]
  },
  {
   "cell_type": "code",
   "execution_count": null,
   "metadata": {
    "collapsed": true
   },
   "outputs": [],
   "source": []
  }
 ],
 "metadata": {
  "kernelspec": {
   "display_name": "Python 2",
   "language": "python",
   "name": "python2"
  },
  "language_info": {
   "codemirror_mode": {
    "name": "ipython",
    "version": 2
   },
   "file_extension": ".py",
   "mimetype": "text/x-python",
   "name": "python",
   "nbconvert_exporter": "python",
   "pygments_lexer": "ipython2",
   "version": "2.7.13"
  }
 },
 "nbformat": 4,
 "nbformat_minor": 2
}

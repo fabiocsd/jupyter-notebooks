{
 "cells": [
  {
   "cell_type": "code",
   "execution_count": 2,
   "metadata": {
    "collapsed": false
   },
   "outputs": [],
   "source": [
    "import numpy as np\n",
    "import pandas as pd\n",
    "\n",
    "from IPython.display import display\n",
    "from sklearn.neighbors import KNeighborsClassifier\n",
    "from sklearn import model_selection\n",
    "from sklearn.metrics import accuracy_score\n",
    "\n",
    "%matplotlib inline\n",
    "import matplotlib.pyplot as plt\n",
    "\n",
    "in_file = 'titanic_data.csv'\n",
    "full_data = pd.read_csv(in_file)\n",
    "\n",
    "in_file_test = 'test.csv'\n",
    "full_data_test = pd.read_csv(in_file_test)\n",
    "\n",
    "def normalizar(train, test):\n",
    "    train = train.drop(['Name', 'Cabin', 'Ticket', 'Fare', 'Survived'], axis = 1)\n",
    "    test = test.drop(['Name', 'Cabin', 'Ticket', 'Fare'], axis = 1)\n",
    "    \n",
    "    result = train.append(test)    \n",
    "    result['Age'].fillna(int(result['Age'].mean()), inplace=True)\n",
    "    #result['Embarked'].fillna(result['Embarked'].mode()[0], inplace=True)\n",
    "    #result['Cabin'].fillna(result['Cabin'].mode()[0], inplace=True)\n",
    "    \n",
    "    result['Sex'] = result['Sex'].astype('category').cat.codes\n",
    "    result['Embarked'] = result['Embarked'].astype('category').cat.codes\n",
    "    #result['Cabin'] = result['Cabin'].astype('category').cat.codes\n",
    "    \n",
    "    train = result[:len(train)]\n",
    "    test = result[len(train):]\n",
    "    return train, test\n",
    "\n",
    "'''\n",
    "Normalização das idades que contem NaN.\n",
    "Calculo a média das idade dos que sobreviveram e não, separadamente. \n",
    "Para os passageiros que não contém a idade, inserir a média das idades\n",
    "de acordo se o passageiro tenha sobrevivido ou não.\n",
    "Isso apenas para o caso de treinamento.'''\n",
    "def normalizar2(train, test):\n",
    "    without_nan_age = train[train['Age'] > 0]        \n",
    "    average_age_survided = without_nan_age[without_nan_age['Survived'] == 1]['Age'].mean()\n",
    "    average_age_not_survided = without_nan_age[without_nan_age['Survived'] == 0]['Age'].mean()    \n",
    "\n",
    "    ite = 0\n",
    "    for i, passageiro in train.iterrows():        \n",
    "        if passageiro[4] > 0: ite = ite + 1\n",
    "        elif passageiro[1] == 1: passageiro[4] = int(average_age_survided)\n",
    "        else: passageiro[4] = int(average_age_not_survided)\n",
    "            \n",
    "    train = train.drop(['Cabin', 'Name', 'Ticket', 'Fare', 'Survived'], axis = 1)\n",
    "    test = test.drop(['Cabin', 'Name', 'Ticket', 'Fare'], axis = 1)\n",
    "    \n",
    "    result = train.append(test)    \n",
    "    result['Age'].fillna(int(result['Age'].mean()), inplace=True)\n",
    "    result['Sex'] = result['Sex'].astype('category').cat.codes\n",
    "    result['Embarked'] = result['Embarked'].astype('category').cat.codes\n",
    "    \n",
    "    train = result[:len(train)]\n",
    "    test = result[len(train):]  \n",
    "    return train, test\n",
    "\n",
    "#full_data.isnull().any()\n",
    "#display(full_data.head())"
   ]
  },
  {
   "cell_type": "code",
   "execution_count": 4,
   "metadata": {
    "collapsed": false
   },
   "outputs": [
    {
     "data": {
      "text/plain": [
       "0.81005586592178769"
      ]
     },
     "execution_count": 4,
     "metadata": {},
     "output_type": "execute_result"
    }
   ],
   "source": [
    "train, test = normalizar(full_data, full_data_test)\n",
    "\n",
    "X = train.drop(['PassengerId'], axis = 1)\n",
    "y = full_data['Survived']\n",
    "tamTrain = int(len(X)*0.8)\n",
    "\n",
    "neigh = KNeighborsClassifier()\n",
    "neigh.fit(X[:tamTrain], y[:tamTrain])\n",
    "pred = neigh.predict(X[tamTrain:])\n",
    "accuracy_score(pred, y[tamTrain:])"
   ]
  },
  {
   "cell_type": "code",
   "execution_count": 5,
   "metadata": {
    "collapsed": false
   },
   "outputs": [
    {
     "name": "stdout",
     "output_type": "stream",
     "text": [
      "Melhor:  [3, 'auto', 'uniform', 25, 0.82122905027932958]\n"
     ]
    },
    {
     "data": {
      "image/png": "[encoded data removed]",
      "text/plain": [
       "<matplotlib.figure.Figure at 0x49559b0>"
      ]
     },
     "metadata": {},
     "output_type": "display_data"
    }
   ],
   "source": [
    "grafico_y = []\n",
    "grafico_x = []\n",
    "grafico_label_x = []\n",
    "maior = [0, \"\", \"\", 0, -1.0]\n",
    "ite = 0\n",
    "for p1 in range(1, 40):\n",
    "    for p2 in ['auto', 'ball_tree', 'kd_tree', 'brute']:\n",
    "        for p3 in ['uniform', 'distance']:\n",
    "            for p4 in range(20, 40, 5):\n",
    "                model_test = KNeighborsClassifier(n_neighbors=p1, algorithm=p2, weights=p3, leaf_size=p4)\n",
    "                model_test.fit(X[:tamTrain], y[:tamTrain])\n",
    "                pred_test = model_test.predict(X[tamTrain:])\n",
    "                accu = accuracy_score(pred_test, y[tamTrain:])\n",
    "                grafico_y.append(accu)\n",
    "                grafico_x.append(ite)\n",
    "                grafico_label_x.append((p1, p2, p3, p4))            \n",
    "                if(maior[4] < accu): maior = [p1, p2, p3, p4, accu]\n",
    "                ite = ite + 1\n",
    "                #print p1, p2, p3, p4, accu\n",
    "\n",
    "print \"Melhor: \", maior\n",
    "#print grafico_label_x            \n",
    "plt.plot(grafico_x, grafico_y, marker='o')\n",
    "plt.grid()"
   ]
  },
  {
   "cell_type": "code",
   "execution_count": null,
   "metadata": {
    "collapsed": true
   },
   "outputs": [],
   "source": []
  }
 ],
 "metadata": {
  "kernelspec": {
   "display_name": "Python 2",
   "language": "python",
   "name": "python2"
  },
  "language_info": {
   "codemirror_mode": {
    "name": "ipython",
    "version": 2
   },
   "file_extension": ".py",
   "mimetype": "text/x-python",
   "name": "python",
   "nbconvert_exporter": "python",
   "pygments_lexer": "ipython2",
   "version": "2.7.13"
  }
 },
 "nbformat": 4,
 "nbformat_minor": 2
}
